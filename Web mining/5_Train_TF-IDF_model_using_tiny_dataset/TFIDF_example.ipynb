{
 "cells": [
  {
   "cell_type": "markdown",
   "metadata": {},
   "source": [
    "<h1 style=\"text-align:center;font-size: 3em\">  Train a TF-IDF model using a tiny dataset </h1>"
   ]
  },
  {
   "cell_type": "code",
   "execution_count": 1,
   "metadata": {},
   "outputs": [
    {
     "name": "stdout",
     "output_type": "stream",
     "text": [
      "[['new', 'york', 'times'], ['new', 'york', 'post'], ['los', 'angeles', 'times']]\n"
     ]
    }
   ],
   "source": [
    "from pprint import pprint # pretty-printer\n",
    "from gensim import corpora, models, similarities\n",
    "\n",
    "\n",
    "#corpus\n",
    "documents = [\"new york times\",\n",
    "             \"new york post\",\n",
    "             \"los angeles times\"]\n",
    "\n",
    "# Preprocessing (here, we only do tokenization)\n",
    "toknized_documents = [[token for token in document.lower().split()] for document in documents]\n",
    "pprint(toknized_documents)"
   ]
  },
  {
   "cell_type": "code",
   "execution_count": 2,
   "metadata": {},
   "outputs": [
    {
     "name": "stdout",
     "output_type": "stream",
     "text": [
      "\n",
      "\n",
      "Dictionary(6 unique tokens: ['new', 'times', 'york', 'post', 'angeles']...)\n",
      "\n",
      "\n",
      "3\n"
     ]
    }
   ],
   "source": [
    "# Create dictionary (aka : id => word (id2word) mapping)\n",
    "dictionary = corpora.Dictionary(toknized_documents)\n",
    "print(\"\\n\")\n",
    "print(dictionary)\n",
    "print(\"\\n\")\n",
    "print(dictionary.num_docs)\n",
    "# save dictionary as text for corpus inspection\n",
    "dictionary.save_as_text(\"doc.txt\")"
   ]
  },
  {
   "cell_type": "code",
   "execution_count": 3,
   "metadata": {},
   "outputs": [
    {
     "name": "stdout",
     "output_type": "stream",
     "text": [
      "{'new': 0, 'times': 1, 'york': 2, 'post': 3, 'angeles': 4, 'los': 5}\n",
      "\n",
      " new times\n"
     ]
    }
   ],
   "source": [
    "# To see the mapping between words and their ids:\n",
    "print(dictionary.token2id)\n",
    "print(\"\\n\",dictionary[0],dictionary[1])"
   ]
  },
  {
   "cell_type": "code",
   "execution_count": 4,
   "metadata": {},
   "outputs": [
    {
     "name": "stdout",
     "output_type": "stream",
     "text": [
      "doc2bow_vectors of the three documents : [(id_word, tf) , (id_word, tf) ,...,(id_word, tf)]:\n",
      "[(0, 1), (1, 1), (2, 1)]\n",
      "[(0, 1), (2, 1), (3, 1)]\n",
      "[(1, 1), (4, 1), (5, 1)]\n"
     ]
    }
   ],
   "source": [
    "# vectorization: bag-of-word vector for each doc\n",
    "corpus_doc2bow_vec = [dictionary.doc2bow(tok_doc) for tok_doc in toknized_documents]\n",
    "print(\"doc2bow_vectors of the three documents : [(id_word, tf) , (id_word, tf) ,...,(id_word, tf)]:\")\n",
    "for c in corpus_doc2bow_vec:\n",
    "    print(c)\n"
   ]
  },
  {
   "cell_type": "code",
   "execution_count": 5,
   "metadata": {},
   "outputs": [
    {
     "name": "stdout",
     "output_type": "stream",
     "text": [
      "tfidf_vectors of the three documents : [(id_word, tf-idf) , (id_word, tf-idf) ,...,(id_word, tf-idf)]:\n",
      "[(0, 0.5849625007211562), (1, 0.5849625007211562), (2, 0.5849625007211562)]\n",
      "[(0, 0.5849625007211562), (2, 0.5849625007211562), (3, 1.5849625007211563)]\n",
      "[(1, 0.5849625007211562), (4, 1.5849625007211563), (5, 1.5849625007211563)]\n"
     ]
    }
   ],
   "source": [
    "# train (compute) TF-IDF\n",
    "tfidf_model = models.TfidfModel(corpus_doc2bow_vec,id2word = dictionary,normalize = False) #fit model\n",
    "# Apply model\n",
    "corpus_tfidf_vectors = tfidf_model[corpus_doc2bow_vec]\n",
    "print(\"tfidf_vectors of the three documents : [(id_word, tf-idf) , (id_word, tf-idf) ,...,(id_word, tf-idf)]:\")\n",
    "for doc_vector in corpus_tfidf_vectors:\n",
    "    print(doc_vector)"
   ]
  },
  {
   "cell_type": "code",
   "execution_count": 6,
   "metadata": {},
   "outputs": [
    {
     "name": "stdout",
     "output_type": "stream",
     "text": [
      "[(0, 2), (1, 1)]\n"
     ]
    }
   ],
   "source": [
    "# query\n",
    "query=\"new new times\"\n",
    "query_bow_vector = dictionary.doc2bow(query.lower().split())\n",
    "print(query_bow_vector)"
   ]
  },
  {
   "cell_type": "code",
   "execution_count": 7,
   "metadata": {},
   "outputs": [
    {
     "name": "stdout",
     "output_type": "stream",
     "text": [
      "[(0, 1.1699250014423124), (1, 0.5849625007211562)]\n"
     ]
    }
   ],
   "source": [
    "# Calculate (compute) TF-IDF vector of the query\n",
    "query_tfidf_vector = tfidf_model[query_bow_vector] # Apply model\n",
    "print(query_tfidf_vector)"
   ]
  },
  {
   "cell_type": "code",
   "execution_count": 8,
   "metadata": {},
   "outputs": [
    {
     "name": "stdout",
     "output_type": "stream",
     "text": [
      "[(0, 0.7745967), (1, 0.2926428), (2, 0.112928025)]\n"
     ]
    }
   ],
   "source": [
    "# Compute the cosine similarity between the query and the 3 documents\n",
    "index_matrix = similarities.SparseMatrixSimilarity(corpus_tfidf_vectors,num_features=6)\n",
    "sims = index_matrix[query_tfidf_vector]\n",
    "print(list(enumerate(sims)))"
   ]
  }
 ],
 "metadata": {
  "kernelspec": {
   "display_name": "Python 3",
   "language": "python",
   "name": "python3"
  },
  "language_info": {
   "codemirror_mode": {
    "name": "ipython",
    "version": 3
   },
   "file_extension": ".py",
   "mimetype": "text/x-python",
   "name": "python",
   "nbconvert_exporter": "python",
   "pygments_lexer": "ipython3",
   "version": "3.7.4"
  }
 },
 "nbformat": 4,
 "nbformat_minor": 2
}
