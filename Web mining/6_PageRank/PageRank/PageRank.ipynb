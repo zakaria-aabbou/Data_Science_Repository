{
 "cells": [
  {
   "cell_type": "markdown",
   "metadata": {},
   "source": [
    "<h1 style=\"text-align:center;font-size: 3em\"> PageRank </h1>"
   ]
  },
  {
   "cell_type": "markdown",
   "metadata": {},
   "source": [
    "## Import libs"
   ]
  },
  {
   "cell_type": "code",
   "execution_count": 1,
   "metadata": {},
   "outputs": [],
   "source": [
    "import numpy as np\n",
    "import pandas as pd"
   ]
  },
  {
   "cell_type": "markdown",
   "metadata": {},
   "source": [
    "## Using transation matrix"
   ]
  },
  {
   "cell_type": "code",
   "execution_count": 2,
   "metadata": {},
   "outputs": [],
   "source": [
    "def PageRank1( M, dmp = 0.85, eps = 1.0e-5, max_iter = 100):\n",
    "    \"\"\"\n",
    "        M        : transation matrix\n",
    "        dmp      : Damping factor ; usually set to 0.85\n",
    "        eps      : Pre-specified threshold (desired precision); //used in Stopping condition\n",
    "        max_iter : Maximum number of iterations\n",
    "    \"\"\"\n",
    "    nb_site = len (M)\n",
    "    R_old = [1/nb_site for _ in range(nb_site)]\n",
    "    cpp = 0\n",
    "    while True:\n",
    "        R = M.dot(R_old)\n",
    "        R = [ (1-dmp)/nb_site + dmp*r for r in R]\n",
    "\n",
    "        flag = True\n",
    "        for r1, r2 in zip(R, R_old):\n",
    "            if abs(r1 - r2) > eps:\n",
    "                flag = False\n",
    "                break\n",
    "\n",
    "        if flag or cpp >= max_iter:\n",
    "            break\n",
    "\n",
    "        R_old = R\n",
    "        cpp+=1\n",
    "\n",
    "    return cpp, R\n"
   ]
  },
  {
   "cell_type": "code",
   "execution_count": 3,
   "metadata": {},
   "outputs": [
    {
     "name": "stdout",
     "output_type": "stream",
     "text": [
      "Steps : 12\n",
      "PageRank vector : [0.3681575511754208, 0.1418090346209795, 0.28795884393472515, 0.2020745702688743]\n"
     ]
    }
   ],
   "source": [
    "A = np.array([[   0,  0 , 1, 1/2], \n",
    "              [ 1/3,   0, 0,   0], \n",
    "              [ 1/3, 1/2, 0, 1/2], \n",
    "              [ 1/3, 1/2, 0,   0]])\n",
    "eps = 0.00001\n",
    "nb_etr = 100\n",
    "Steps = PageRank1(A, eps = eps, max_iter = nb_etr)[0]\n",
    "PRvector = PageRank1(A, eps = eps, max_iter = nb_etr)[1]\n",
    "print('Steps :', Steps)\n",
    "print('PageRank vector :', PRvector)"
   ]
  },
  {
   "cell_type": "code",
   "execution_count": 4,
   "metadata": {},
   "outputs": [
    {
     "name": "stdout",
     "output_type": "stream",
     "text": [
      "[[0.09090909 0.09090909 0.09090909 0.09090909 0.09090909 0.09090909\n",
      "  0.09090909 0.09090909 0.09090909 0.09090909 0.09090909]\n",
      " [0.01363636 0.01363636 0.86363636 0.01363636 0.01363636 0.01363636\n",
      "  0.01363636 0.01363636 0.01363636 0.01363636 0.01363636]\n",
      " [0.01363636 0.86363636 0.01363636 0.01363636 0.01363636 0.01363636\n",
      "  0.01363636 0.01363636 0.01363636 0.01363636 0.01363636]\n",
      " [0.43863636 0.43863636 0.01363636 0.01363636 0.01363636 0.01363636\n",
      "  0.01363636 0.01363636 0.01363636 0.01363636 0.01363636]\n",
      " [0.01363636 0.2969697  0.01363636 0.2969697  0.01363636 0.2969697\n",
      "  0.01363636 0.01363636 0.01363636 0.01363636 0.01363636]\n",
      " [0.01363636 0.43863636 0.01363636 0.01363636 0.43863636 0.01363636\n",
      "  0.01363636 0.01363636 0.01363636 0.01363636 0.01363636]\n",
      " [0.01363636 0.43863636 0.01363636 0.01363636 0.43863636 0.01363636\n",
      "  0.01363636 0.01363636 0.01363636 0.01363636 0.01363636]\n",
      " [0.01363636 0.43863636 0.01363636 0.01363636 0.43863636 0.01363636\n",
      "  0.01363636 0.01363636 0.01363636 0.01363636 0.01363636]\n",
      " [0.01363636 0.43863636 0.01363636 0.01363636 0.43863636 0.01363636\n",
      "  0.01363636 0.01363636 0.01363636 0.01363636 0.01363636]\n",
      " [0.01363636 0.01363636 0.01363636 0.01363636 0.86363636 0.01363636\n",
      "  0.01363636 0.01363636 0.01363636 0.01363636 0.01363636]\n",
      " [0.01363636 0.01363636 0.01363636 0.01363636 0.86363636 0.01363636\n",
      "  0.01363636 0.01363636 0.01363636 0.01363636 0.01363636]]\n",
      "(0, [0.09090909090909091, 0.09090909090909094, 0.09090909090909093, 0.09090909090909088, 0.09090909090909091, 0.09090909090909088, 0.09090909090909088, 0.09090909090909088, 0.09090909090909088, 0.09090909090909091, 0.09090909090909091])\n"
     ]
    }
   ],
   "source": [
    "B = np.array([\n",
    "    [1/11, 1/11, 1/11, 1/11, 1/11, 1/11, 1/11, 1/11, 1/11, 1/11, 1/11],\n",
    "    [0.15/11, 0.15/11, (0.15/11)+0.85, 0.15/11, 0.15/11, 0.15/11, 0.15/11, 0.15/11, 0.15/11, 0.15/11, 0.15/11],\n",
    "    [0.15/11, (0.15/11)+0.85, 0.15/11, 0.15/11, 0.15/11, 0.15/11, 0.15/11, 0.15/11, 0.15/11, 0.15/11, 0.15/11],\n",
    "    [(0.15/11)+(0.85/2), (0.15/11)+(0.85/2), 0.15/11, 0.15/11, 0.15/11, 0.15/11, 0.15/11, 0.15/11, 0.15/11, 0.15/11, 0.15/11],\n",
    "    [0.15/11, (0.15/11)+(0.85/3), 0.15/11, (0.15/11)+(0.85/3), 0.15/11, (0.15/11)+(0.85/3), 0.15/11, 0.15/11, 0.15/11, 0.15/11, 0.15/11],\n",
    "    [0.15/11, (0.15/11)+(0.85/2), 0.15/11, 0.15/11, (0.15/11)+(0.85/2), 0.15/11, 0.15/11, 0.15/11, 0.15/11, 0.15/11, 0.15/11],\n",
    "    [0.15/11, (0.15/11)+(0.85/2), 0.15/11, 0.15/11, (0.15/11)+(0.85/2), 0.15/11, 0.15/11, 0.15/11, 0.15/11, 0.15/11, 0.15/11],\n",
    "    [0.15/11, (0.15/11)+(0.85/2), 0.15/11, 0.15/11, (0.15/11)+(0.85/2), 0.15/11, 0.15/11, 0.15/11, 0.15/11, 0.15/11, 0.15/11],\n",
    "    [0.15/11, (0.15/11)+(0.85/2), 0.15/11, 0.15/11, (0.15/11)+(0.85/2), 0.15/11, 0.15/11, 0.15/11, 0.15/11, 0.15/11, 0.15/11],\n",
    "    [0.15/11, 0.15/11, 0.15/11, 0.15/11, (0.15/11)+(0.85/1), 0.15/11, 0.15/11, 0.15/11, 0.15/11, 0.15/11, 0.15/11],\n",
    "    [0.15/11, 0.15/11, 0.15/11, 0.15/11, (0.15/11)+(0.85/1), 0.15/11, 0.15/11, 0.15/11, 0.15/11, 0.15/11, 0.15/11]\n",
    "])\n",
    "print(B)\n",
    "print(PageRank1(B))"
   ]
  },
  {
   "cell_type": "code",
   "execution_count": 5,
   "metadata": {},
   "outputs": [],
   "source": [
    "T = np.array([\n",
    "        [ 0 , 0 , 0 , 0 , 0 , 0 , 0 , 0 , 0 , 0 , 0 ],\n",
    "        [ 0 , 0 , 0.85/1 , 0 , 0 , 0 , 0 , 0 , 0 , 0 , 0 ],\n",
    "        [ 0 , 0.85/1 , 0 , 0 , 0 , 0 , 0 , 0 , 0 , 0 , 0 ],\n",
    "        [ 0.85/2 , 0.85/2 , 0 , 0 , 0 , 0 , 0 , 0 , 0 , 0 , 0 ],\n",
    "        [ 0 , 0.85/3 , 0 , 0.85/3 , 0 , 0.85/3 , 0 , 0 , 0 , 0 , 0 ],\n",
    "        [ 0 , 0.85/2 , 0 , 0 , 0.85/2 , 0 , 0 , 0 , 0 , 0 , 0 ],\n",
    "        [ 0 , 0.85/2 , 0 , 0 , 0.85/2 , 0 , 0 , 0 , 0 , 0 , 0 ],\n",
    "        [ 0 , 0.85/2 , 0 , 0 , 0.85/2 , 0 , 0 , 0 , 0 , 0 , 0 ],\n",
    "        [ 0 , 0.85/2 , 0 , 0 , 0.85/2 , 0 , 0 , 0 , 0 , 0 , 0 ],\n",
    "        [ 0 , 0 , 0 , 0 , 0.85/1 , 0 , 0 , 0 , 0 , 0 , 0 ],\n",
    "        [ 0 , 0 , 0 , 0 , 0.85/1 , 0 , 0 , 0 , 0 , 0 , 0 ]\n",
    "    ])"
   ]
  },
  {
   "cell_type": "code",
   "execution_count": 6,
   "metadata": {},
   "outputs": [
    {
     "name": "stdout",
     "output_type": "stream",
     "text": [
      "Steps : 22\n",
      "PageRank vector : [0.01363636363636364, 0.04916371515284579, 0.04916371515284579, 0.036326175758241076, 0.04577578244757678, 0.0479391677312744, 0.0479391677312744, 0.0479391677312744, 0.0479391677312744, 0.04671462030970301, 0.04671462030970301]\n"
     ]
    }
   ],
   "source": [
    "print('Steps :',PageRank1(T)[0])\n",
    "print('PageRank vector :',PageRank1(T)[1])"
   ]
  },
  {
   "cell_type": "code",
   "execution_count": 7,
   "metadata": {},
   "outputs": [
    {
     "data": {
      "text/html": [
       "<div>\n",
       "<style scoped>\n",
       "    .dataframe tbody tr th:only-of-type {\n",
       "        vertical-align: middle;\n",
       "    }\n",
       "\n",
       "    .dataframe tbody tr th {\n",
       "        vertical-align: top;\n",
       "    }\n",
       "\n",
       "    .dataframe thead th {\n",
       "        text-align: right;\n",
       "    }\n",
       "</style>\n",
       "<table border=\"1\" class=\"dataframe\">\n",
       "  <thead>\n",
       "    <tr style=\"text-align: right;\">\n",
       "      <th></th>\n",
       "      <th>pages</th>\n",
       "      <th>Vector</th>\n",
       "    </tr>\n",
       "  </thead>\n",
       "  <tbody>\n",
       "    <tr>\n",
       "      <td>0</td>\n",
       "      <td>A</td>\n",
       "      <td>0.013636</td>\n",
       "    </tr>\n",
       "    <tr>\n",
       "      <td>1</td>\n",
       "      <td>B</td>\n",
       "      <td>0.049164</td>\n",
       "    </tr>\n",
       "    <tr>\n",
       "      <td>2</td>\n",
       "      <td>C</td>\n",
       "      <td>0.049164</td>\n",
       "    </tr>\n",
       "    <tr>\n",
       "      <td>3</td>\n",
       "      <td>D</td>\n",
       "      <td>0.036326</td>\n",
       "    </tr>\n",
       "    <tr>\n",
       "      <td>4</td>\n",
       "      <td>E</td>\n",
       "      <td>0.045776</td>\n",
       "    </tr>\n",
       "    <tr>\n",
       "      <td>5</td>\n",
       "      <td>F</td>\n",
       "      <td>0.047939</td>\n",
       "    </tr>\n",
       "    <tr>\n",
       "      <td>6</td>\n",
       "      <td>G</td>\n",
       "      <td>0.047939</td>\n",
       "    </tr>\n",
       "    <tr>\n",
       "      <td>7</td>\n",
       "      <td>H</td>\n",
       "      <td>0.047939</td>\n",
       "    </tr>\n",
       "    <tr>\n",
       "      <td>8</td>\n",
       "      <td>I</td>\n",
       "      <td>0.047939</td>\n",
       "    </tr>\n",
       "    <tr>\n",
       "      <td>9</td>\n",
       "      <td>L</td>\n",
       "      <td>0.046715</td>\n",
       "    </tr>\n",
       "    <tr>\n",
       "      <td>10</td>\n",
       "      <td>M</td>\n",
       "      <td>0.046715</td>\n",
       "    </tr>\n",
       "  </tbody>\n",
       "</table>\n",
       "</div>"
      ],
      "text/plain": [
       "   pages    Vector\n",
       "0      A  0.013636\n",
       "1      B  0.049164\n",
       "2      C  0.049164\n",
       "3      D  0.036326\n",
       "4      E  0.045776\n",
       "5      F  0.047939\n",
       "6      G  0.047939\n",
       "7      H  0.047939\n",
       "8      I  0.047939\n",
       "9      L  0.046715\n",
       "10     M  0.046715"
      ]
     },
     "execution_count": 7,
     "metadata": {},
     "output_type": "execute_result"
    }
   ],
   "source": [
    "pages = ['A' , 'B' , 'C' , 'D' , 'E' , 'F' , 'G' , 'H' , 'I' , 'L' , 'M']\n",
    "frame = pd.DataFrame(list(zip(pages , PageRank1(T)[1] )),columns=['pages','Vector'])\n",
    "frame"
   ]
  },
  {
   "cell_type": "code",
   "execution_count": null,
   "metadata": {},
   "outputs": [],
   "source": []
  },
  {
   "cell_type": "markdown",
   "metadata": {},
   "source": [
    "## Using xml graph"
   ]
  },
  {
   "cell_type": "code",
   "execution_count": 8,
   "metadata": {},
   "outputs": [],
   "source": [
    "import xml.etree.ElementTree as ET"
   ]
  },
  {
   "cell_type": "code",
   "execution_count": 9,
   "metadata": {},
   "outputs": [],
   "source": [
    "def pagerank2( G, dmp = 0.85, eps = 1.0e-5, max_iter = 100):\n",
    "    \"\"\"\n",
    "        PageRank computes a ranking of the nodes in the graph G based on \n",
    "        the structure of the incoming links. It was originally designed as \n",
    "        an algorithm to rank web pages. \n",
    "\n",
    "        Parameters \n",
    "        ---------- \n",
    "        G           : xml path of graph\n",
    "        M           : transation matrix; The adjacency matrix of the web graph\n",
    "        dmp         : damping factor ; usually set to 0.85\n",
    "        eps         : Pre-specified threshold (desired precision); used in Stopping condition\n",
    "        max_iter    : Maximum number of iterations               ; used in Stopping condition\n",
    "\n",
    "        Returns \n",
    "        ------- \n",
    "        pagerank : dictionary; Dictionary of nodes with PageRank as value\n",
    "    \"\"\"\n",
    "    graph = ET.parse(G).getroot()\n",
    "    nb_site = len(graph)\n",
    "\n",
    "    # Transform graph from xml into dictionary \n",
    "    link_dict ={}\n",
    "    for i,node in enumerate(graph):\n",
    "        link_dict[node.get(\"link\")] =[ i, [link.get('value') for link in node] ]\n",
    "    print(link_dict)\n",
    "    print('######################################')\n",
    "\n",
    "    # dictionary 2 translation matrix\n",
    "    M = [[0 for _ in range(nb_site)] for _ in range(nb_site)] # transation matrix\n",
    "    for i,node in enumerate(link_dict):\n",
    "        for link in link_dict[node][1]:\n",
    "            M[link_dict[link][0]][link_dict[node][0]] = 1/len(link_dict[node][1])\n",
    "    M = np.array(M)\n",
    "    print('M:')\n",
    "    print(pd.DataFrame(M))\n",
    "    print('######################################')\n",
    "\n",
    "    R_old = [1/nb_site for _ in range(nb_site)]\n",
    "    cpp = 0\n",
    "    while True:\n",
    "        R = M.dot(R_old)\n",
    "        R = [ (1-dmp)/nb_site + dmp*r for r in R]\n",
    "\n",
    "        flag = True\n",
    "        for r1, r2 in zip(R, R_old):\n",
    "            if abs(r1 - r2) > eps:\n",
    "                flag = False\n",
    "                break\n",
    "\n",
    "        if flag or cpp >= max_iter: # Stopping condition\n",
    "            break\n",
    "\n",
    "        R_old = R   # update\n",
    "        cpp+=1\n",
    "\n",
    "    print('Steps :',cpp)\n",
    "    print('######################################')\n",
    "    return {'id':list(range(nb_site)), 'link': list(link_dict), 'rank': R}\n",
    "\n"
   ]
  },
  {
   "cell_type": "code",
   "execution_count": 10,
   "metadata": {},
   "outputs": [
    {
     "name": "stdout",
     "output_type": "stream",
     "text": [
      "{'page1': [0, ['page2', 'page3', 'page4']], 'page2': [1, ['page3', 'page4']], 'page3': [2, ['page1']], 'page4': [3, ['page3', 'page1']]}\n",
      "######################################\n",
      "M:\n",
      "          0    1    2    3\n",
      "0  0.000000  0.0  1.0  0.5\n",
      "1  0.333333  0.0  0.0  0.0\n",
      "2  0.333333  0.5  0.0  0.5\n",
      "3  0.333333  0.5  0.0  0.0\n",
      "######################################\n",
      "Steps : 12\n",
      "######################################\n"
     ]
    }
   ],
   "source": [
    "dict1 = pagerank2('graph1.xml')\n",
    "df = pd.DataFrame(dict1)\n",
    "df.sort_values(by=['rank'], ascending=False, inplace=True)\n",
    "df.reset_index(drop=True,inplace=True)"
   ]
  },
  {
   "cell_type": "code",
   "execution_count": 11,
   "metadata": {},
   "outputs": [
    {
     "data": {
      "text/html": [
       "<div>\n",
       "<style scoped>\n",
       "    .dataframe tbody tr th:only-of-type {\n",
       "        vertical-align: middle;\n",
       "    }\n",
       "\n",
       "    .dataframe tbody tr th {\n",
       "        vertical-align: top;\n",
       "    }\n",
       "\n",
       "    .dataframe thead th {\n",
       "        text-align: right;\n",
       "    }\n",
       "</style>\n",
       "<table border=\"1\" class=\"dataframe\">\n",
       "  <thead>\n",
       "    <tr style=\"text-align: right;\">\n",
       "      <th></th>\n",
       "      <th>id</th>\n",
       "      <th>link</th>\n",
       "      <th>rank</th>\n",
       "    </tr>\n",
       "  </thead>\n",
       "  <tbody>\n",
       "    <tr>\n",
       "      <td>0</td>\n",
       "      <td>0</td>\n",
       "      <td>page1</td>\n",
       "      <td>0.368158</td>\n",
       "    </tr>\n",
       "    <tr>\n",
       "      <td>1</td>\n",
       "      <td>2</td>\n",
       "      <td>page3</td>\n",
       "      <td>0.287959</td>\n",
       "    </tr>\n",
       "    <tr>\n",
       "      <td>2</td>\n",
       "      <td>3</td>\n",
       "      <td>page4</td>\n",
       "      <td>0.202075</td>\n",
       "    </tr>\n",
       "    <tr>\n",
       "      <td>3</td>\n",
       "      <td>1</td>\n",
       "      <td>page2</td>\n",
       "      <td>0.141809</td>\n",
       "    </tr>\n",
       "  </tbody>\n",
       "</table>\n",
       "</div>"
      ],
      "text/plain": [
       "   id   link      rank\n",
       "0   0  page1  0.368158\n",
       "1   2  page3  0.287959\n",
       "2   3  page4  0.202075\n",
       "3   1  page2  0.141809"
      ]
     },
     "execution_count": 11,
     "metadata": {},
     "output_type": "execute_result"
    }
   ],
   "source": [
    "df"
   ]
  },
  {
   "cell_type": "code",
   "execution_count": null,
   "metadata": {},
   "outputs": [],
   "source": []
  }
 ],
 "metadata": {
  "colab": {
   "name": "TF_IDF.ipynb",
   "provenance": [],
   "version": "0.3.2"
  },
  "kernelspec": {
   "display_name": "Python 3",
   "language": "python",
   "name": "python3"
  },
  "language_info": {
   "codemirror_mode": {
    "name": "ipython",
    "version": 3
   },
   "file_extension": ".py",
   "mimetype": "text/x-python",
   "name": "python",
   "nbconvert_exporter": "python",
   "pygments_lexer": "ipython3",
   "version": "3.7.4"
  }
 },
 "nbformat": 4,
 "nbformat_minor": 1
}
