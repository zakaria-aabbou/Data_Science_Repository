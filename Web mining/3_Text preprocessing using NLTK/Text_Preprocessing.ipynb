{
 "cells": [
  {
   "cell_type": "markdown",
   "metadata": {},
   "source": [
    "## Example of corpus-raw text preprocessing"
   ]
  },
  {
   "cell_type": "code",
   "execution_count": 1,
   "metadata": {},
   "outputs": [],
   "source": [
    "import nltk\n",
    "#nltk.download('stopwords') # download and update package stopwords\n",
    "from nltk.corpus import stopwords\n",
    "from nltk.tokenize import WordPunctTokenizer\n",
    "from nltk.stem.porter import PorterStemmer\n",
    "\n",
    "from nltk.tokenize import RegexpTokenizer"
   ]
  },
  {
   "cell_type": "code",
   "execution_count": 2,
   "metadata": {},
   "outputs": [],
   "source": [
    "stemmer = PorterStemmer()\n",
    "\n",
    "raw_text = \"\"\" The next preprocessing step is breaking up the units of text into individual words or tokens... As mentioned \n",
    "                earlier, stopwords are very common words. Words like “we” and “are” probably do not help at all in NLP tasks\n",
    "                such as sentiment analysis or text classifications. Hence, we can remove stopwords to save computing time and\n",
    "                efforts in processing large volumes of text. In our case, we used spaCy’s inbuilt stopwords,\n",
    "                but we should be cautious and modify the stopwords list accordingly. E.g., \n",
    "                for sentiment analysis, the word “not” is important in the meaning of a text such as “not good”.\n",
    "                However, spaCy included “not” as a stopword. \n",
    "            \"\"\""
   ]
  },
  {
   "cell_type": "code",
   "execution_count": 3,
   "metadata": {},
   "outputs": [
    {
     "name": "stdout",
     "output_type": "stream",
     "text": [
      "text :  the next preprocessing step is breaking up the units of text into individual words or tokens... as mentioned \n",
      "                earlier, stopwords are very common words. words like “we” and “are” probably do not help at all in nlp tasks\n",
      "                such as sentiment analysis or text classifications. hence, we can remove stopwords to save computing time and\n",
      "                efforts in processing large volumes of text. in our case, we used spacy’s inbuilt stopwords,\n",
      "                but we should be cautious and modify the stopwords list accordingly. e.g., \n",
      "                for sentiment analysis, the word “not” is important in the meaning of a text such as “not good”.\n",
      "                however, spacy included “not” as a stopword. \n",
      "            \n",
      "\n",
      "\n"
     ]
    }
   ],
   "source": [
    "#lower case\n",
    "text = raw_text.lower()\n",
    "print(\"text :\", text)\n",
    "print(\"\\n\")"
   ]
  },
  {
   "cell_type": "code",
   "execution_count": 4,
   "metadata": {},
   "outputs": [
    {
     "name": "stdout",
     "output_type": "stream",
     "text": [
      "tokens : ['the', 'next', 'preprocessing', 'step', 'is', 'breaking', 'up', 'the', 'units', 'of', 'text', 'into', 'individual', 'words', 'or', 'tokens', 'as', 'mentioned', 'earlier', 'stopwords', 'are', 'very', 'common', 'words', 'words', 'like', 'we', 'and', 'are', 'probably', 'do', 'not', 'help', 'at', 'all', 'in', 'nlp', 'tasks', 'such', 'as', 'sentiment', 'analysis', 'or', 'text', 'classifications', 'hence', 'we', 'can', 'remove', 'stopwords', 'to', 'save', 'computing', 'time', 'and', 'efforts', 'in', 'processing', 'large', 'volumes', 'of', 'text', 'in', 'our', 'case', 'we', 'used', 'spacy', 's', 'inbuilt', 'stopwords', 'but', 'we', 'should', 'be', 'cautious', 'and', 'modify', 'the', 'stopwords', 'list', 'accordingly', 'e', 'g', 'for', 'sentiment', 'analysis', 'the', 'word', 'not', 'is', 'important', 'in', 'the', 'meaning', 'of', 'a', 'text', 'such', 'as', 'not', 'good', 'however', 'spacy', 'included', 'not', 'as', 'a', 'stopword']\n",
      "\n",
      "\n",
      "tokens[0] : the\n"
     ]
    }
   ],
   "source": [
    "#tokenization\n",
    "tokenizer = RegexpTokenizer(r'\\w+') # remove punctuatuion\n",
    "tokens = tokenizer.tokenize(text)\n",
    "print(\"tokens :\", tokens)\n",
    "print(\"\\n\")\n",
    "print(\"tokens[0] :\", tokens[0])"
   ]
  },
  {
   "cell_type": "code",
   "execution_count": 5,
   "metadata": {},
   "outputs": [
    {
     "data": {
      "text/plain": [
       "{'a',\n",
       " 'about',\n",
       " 'above',\n",
       " 'after',\n",
       " 'again',\n",
       " 'against',\n",
       " 'ain',\n",
       " 'all',\n",
       " 'am',\n",
       " 'an',\n",
       " 'and',\n",
       " 'any',\n",
       " 'are',\n",
       " 'aren',\n",
       " \"aren't\",\n",
       " 'as',\n",
       " 'at',\n",
       " 'be',\n",
       " 'because',\n",
       " 'been',\n",
       " 'before',\n",
       " 'being',\n",
       " 'below',\n",
       " 'between',\n",
       " 'both',\n",
       " 'but',\n",
       " 'by',\n",
       " 'can',\n",
       " 'couldn',\n",
       " \"couldn't\",\n",
       " 'd',\n",
       " 'did',\n",
       " 'didn',\n",
       " \"didn't\",\n",
       " 'do',\n",
       " 'does',\n",
       " 'doesn',\n",
       " \"doesn't\",\n",
       " 'doing',\n",
       " 'don',\n",
       " \"don't\",\n",
       " 'down',\n",
       " 'during',\n",
       " 'each',\n",
       " 'few',\n",
       " 'for',\n",
       " 'from',\n",
       " 'further',\n",
       " 'had',\n",
       " 'hadn',\n",
       " \"hadn't\",\n",
       " 'has',\n",
       " 'hasn',\n",
       " \"hasn't\",\n",
       " 'have',\n",
       " 'haven',\n",
       " \"haven't\",\n",
       " 'having',\n",
       " 'he',\n",
       " 'her',\n",
       " 'here',\n",
       " 'hers',\n",
       " 'herself',\n",
       " 'him',\n",
       " 'himself',\n",
       " 'his',\n",
       " 'how',\n",
       " 'i',\n",
       " 'if',\n",
       " 'in',\n",
       " 'into',\n",
       " 'is',\n",
       " 'isn',\n",
       " \"isn't\",\n",
       " 'it',\n",
       " \"it's\",\n",
       " 'its',\n",
       " 'itself',\n",
       " 'just',\n",
       " 'll',\n",
       " 'm',\n",
       " 'ma',\n",
       " 'me',\n",
       " 'mightn',\n",
       " \"mightn't\",\n",
       " 'more',\n",
       " 'most',\n",
       " 'mustn',\n",
       " \"mustn't\",\n",
       " 'my',\n",
       " 'myself',\n",
       " 'needn',\n",
       " \"needn't\",\n",
       " 'no',\n",
       " 'nor',\n",
       " 'not',\n",
       " 'now',\n",
       " 'o',\n",
       " 'of',\n",
       " 'off',\n",
       " 'on',\n",
       " 'once',\n",
       " 'only',\n",
       " 'or',\n",
       " 'other',\n",
       " 'our',\n",
       " 'ours',\n",
       " 'ourselves',\n",
       " 'out',\n",
       " 'over',\n",
       " 'own',\n",
       " 're',\n",
       " 's',\n",
       " 'same',\n",
       " 'shan',\n",
       " \"shan't\",\n",
       " 'she',\n",
       " \"she's\",\n",
       " 'should',\n",
       " \"should've\",\n",
       " 'shouldn',\n",
       " \"shouldn't\",\n",
       " 'so',\n",
       " 'some',\n",
       " 'such',\n",
       " 't',\n",
       " 'than',\n",
       " 'that',\n",
       " \"that'll\",\n",
       " 'the',\n",
       " 'their',\n",
       " 'theirs',\n",
       " 'them',\n",
       " 'themselves',\n",
       " 'then',\n",
       " 'there',\n",
       " 'these',\n",
       " 'they',\n",
       " 'this',\n",
       " 'those',\n",
       " 'through',\n",
       " 'to',\n",
       " 'too',\n",
       " 'under',\n",
       " 'until',\n",
       " 'up',\n",
       " 've',\n",
       " 'very',\n",
       " 'was',\n",
       " 'wasn',\n",
       " \"wasn't\",\n",
       " 'we',\n",
       " 'were',\n",
       " 'weren',\n",
       " \"weren't\",\n",
       " 'what',\n",
       " 'when',\n",
       " 'where',\n",
       " 'which',\n",
       " 'while',\n",
       " 'who',\n",
       " 'whom',\n",
       " 'why',\n",
       " 'will',\n",
       " 'with',\n",
       " 'won',\n",
       " \"won't\",\n",
       " 'wouldn',\n",
       " \"wouldn't\",\n",
       " 'y',\n",
       " 'you',\n",
       " \"you'd\",\n",
       " \"you'll\",\n",
       " \"you're\",\n",
       " \"you've\",\n",
       " 'your',\n",
       " 'yours',\n",
       " 'yourself',\n",
       " 'yourselves'}"
      ]
     },
     "execution_count": 5,
     "metadata": {},
     "output_type": "execute_result"
    }
   ],
   "source": [
    "stopWords = set(stopwords.words('english'))\n",
    "stopWords"
   ]
  },
  {
   "cell_type": "code",
   "execution_count": 6,
   "metadata": {},
   "outputs": [
    {
     "name": "stdout",
     "output_type": "stream",
     "text": [
      "\n",
      " tokens_clean :  ['next', 'preprocessing', 'step', 'breaking', 'units', 'text', 'individual', 'words', 'tokens', 'mentioned', 'earlier', 'stopwords', 'common', 'words', 'words', 'like', 'probably', 'help', 'nlp', 'tasks', 'sentiment', 'analysis', 'text', 'classifications', 'hence', 'remove', 'stopwords', 'save', 'computing', 'time', 'efforts', 'processing', 'large', 'volumes', 'text', 'case', 'used', 'spacy', 'inbuilt', 'stopwords', 'cautious', 'modify', 'stopwords', 'list', 'accordingly', 'e', 'g', 'sentiment', 'analysis', 'word', 'important', 'meaning', 'text', 'good', 'however', 'spacy', 'included', 'stopword']\n"
     ]
    }
   ],
   "source": [
    "# stopwords removal\n",
    "tokens_clean = [t for t in tokens if t not in stopWords]\n",
    "print(\"\\n tokens_clean : \", tokens_clean)"
   ]
  },
  {
   "cell_type": "code",
   "execution_count": 7,
   "metadata": {},
   "outputs": [
    {
     "name": "stdout",
     "output_type": "stream",
     "text": [
      "\n",
      " stems :  ['next', 'preprocess', 'step', 'break', 'unit', 'text', 'individu', 'word', 'token', 'mention', 'earlier', 'stopword', 'common', 'word', 'word', 'like', 'probabl', 'help', 'nlp', 'task', 'sentiment', 'analysi', 'text', 'classif', 'henc', 'remov', 'stopword', 'save', 'comput', 'time', 'effort', 'process', 'larg', 'volum', 'text', 'case', 'use', 'spaci', 'inbuilt', 'stopword', 'cautiou', 'modifi', 'stopword', 'list', 'accordingli', 'e', 'g', 'sentiment', 'analysi', 'word', 'import', 'mean', 'text', 'good', 'howev', 'spaci', 'includ', 'stopword']\n"
     ]
    }
   ],
   "source": [
    "#stemming\n",
    "stems = [stemmer.stem(t) for t in tokens_clean]\n",
    "print(\"\\n stems : \" ,stems)"
   ]
  },
  {
   "cell_type": "code",
   "execution_count": null,
   "metadata": {},
   "outputs": [],
   "source": []
  }
 ],
 "metadata": {
  "kernelspec": {
   "display_name": "Python 3",
   "language": "python",
   "name": "python3"
  },
  "language_info": {
   "codemirror_mode": {
    "name": "ipython",
    "version": 3
   },
   "file_extension": ".py",
   "mimetype": "text/x-python",
   "name": "python",
   "nbconvert_exporter": "python",
   "pygments_lexer": "ipython3",
   "version": "3.7.4"
  }
 },
 "nbformat": 4,
 "nbformat_minor": 2
}
